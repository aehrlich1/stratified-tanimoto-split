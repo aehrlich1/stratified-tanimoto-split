{
 "cells": [
  {
   "cell_type": "code",
   "execution_count": 27,
   "metadata": {
    "ExecuteTime": {
     "end_time": "2025-02-18T09:55:14.917788Z",
     "start_time": "2025-02-18T09:55:09.887033Z"
    },
    "collapsed": true
   },
   "outputs": [],
   "source": [
    "import math\n",
    "from rdkit import Chem\n",
    "from rdkit.Chem import Draw\n",
    "from rdkit.Chem.Descriptors import ExactMolWt, HeavyAtomMolWt\n",
    "from rdkit.Chem.Fingerprints import FingerprintMols\n",
    "from rdkit import DataStructs\n",
    "import numpy as np\n",
    "import seaborn as sns\n",
    "from matplotlib import pyplot as plt\n",
    "import pandas as pd\n",
    "from data import PolarisDataset"
   ]
  },
  {
   "cell_type": "code",
   "execution_count": 28,
   "outputs": [],
   "source": [
    "tgt = \"MLM\" #['MLM', 'HLM', 'MDR1-MDCKII', 'LogD', 'KSOL']"
   ],
   "metadata": {
    "collapsed": false
   }
  },
  {
   "cell_type": "code",
   "execution_count": 29,
   "outputs": [
    {
     "name": "stderr",
     "output_type": "stream",
     "text": [
      "Processing...\n",
      "Done!\n",
      "Processing...\n",
      "Done!\n"
     ]
    }
   ],
   "source": [
    "train_dataset = PolarisDataset(root=\"./dataset\", task=tgt, train=True, force_reload=True)\n",
    "test_dataset = PolarisDataset(root=\"./dataset\", task=tgt, train=False, force_reload=True)"
   ],
   "metadata": {
    "collapsed": false
   }
  },
  {
   "cell_type": "code",
   "execution_count": 30,
   "outputs": [
    {
     "name": "stdout",
     "output_type": "stream",
     "text": [
      "Train size:\n",
      "303\n",
      "min - avg - max\n",
      "0.0 176.90 2380.0\n",
      "--------------------\n",
      "Test size:\n",
      "126\n",
      "min - avg - max\n",
      "[None, None, None, None, None, None, None, None, None, None, None, None, None, None, None, None, None, None, None, None, None, None, None, None, None, None, None, None, None, None, None, None, None, None, None, None, None, None, None, None, None, None, None, None, None, None, None, None, None, None, None, None, None, None, None, None, None, None, None, None, None, None, None, None, None, None, None, None, None, None, None, None, None, None, None, None, None, None, None, None, None, None, None, None, None, None, None, None, None, None, None, None, None, None, None, None, None, None, None, None, None, None, None, None, None, None, None, None, None, None, None, None, None, None, None, None, None, None, None, None, None, None, None, None, None, None]\n"
     ]
    }
   ],
   "source": [
    "\n",
    "\n",
    "print(\"Train size:\")\n",
    "print(len(train_dataset))\n",
    "\n",
    "y_values = [data.y for data in train_dataset]\n",
    "print(\"min - avg - max\")\n",
    "min = np.min(y_values)\n",
    "avg = np.average(y_values)\n",
    "max = np.max(y_values)\n",
    "print(str(min) + \" \" +\"{:.2f}\".format(avg)+ \" \" + str(max))\n",
    "print(\"--------------------\")\n",
    "\n",
    "print(\"Test size:\")\n",
    "print(len(test_dataset))\n",
    "\n",
    "y_values = [data.y for data in test_dataset]\n",
    "print(\"min - avg - max\")\n",
    "print(y_values)\n",
    "#min = np.min(y_values)\n",
    "# avg = np.average(y_values)\n",
    "# max = np.max(y_values)\n",
    "# print(str(min) + \" \" +\"{:.2f}\".format(avg)+ \" \" + str(max))\n",
    "# print(\"--------------------\")"
   ],
   "metadata": {
    "collapsed": false
   }
  },
  {
   "cell_type": "code",
   "execution_count": null,
   "outputs": [],
   "source": [],
   "metadata": {
    "collapsed": false
   }
  },
  {
   "cell_type": "code",
   "execution_count": null,
   "metadata": {
    "ExecuteTime": {
     "end_time": "2025-02-18T09:55:16.700072Z",
     "start_time": "2025-02-18T09:55:15.866543Z"
    },
    "collapsed": false
   },
   "outputs": [],
   "source": []
  },
  {
   "cell_type": "code",
   "execution_count": null,
   "metadata": {
    "collapsed": false
   },
   "outputs": [],
   "source": [
    "# the same, but better + min max avg\n",
    "for tgt in train.target_cols:\n",
    "    y = train.y[tgt]\n",
    "    mask = ~np.isnan(y)\n",
    "    print(tgt)\n",
    "    print(\"Number of samples \"+ str(sum(mask)))\n",
    "\n",
    "    print(\"min - avg - max\")\n",
    "    min = np.min(y[mask])\n",
    "    avg = np.average(y[mask])\n",
    "    max = np.max(y[mask])\n",
    "    print(str(min) + \" \" +\"{:.2f}\".format(avg)+ \" \" + str(max))\n",
    "\n",
    "\n",
    "    print(\"--------------------\")"
   ]
  },
  {
   "cell_type": "code",
   "execution_count": null,
   "metadata": {
    "collapsed": false
   },
   "outputs": [],
   "source": [
    "# draw distribution for each target\n",
    "for tgt in train.target_cols:\n",
    "    y = train.y[tgt]\n",
    "    mask = ~np.isnan(y)\n",
    "    data = train.y[tgt][mask]\n",
    "    sns.displot(data=pd.DataFrame({tgt: data}),\n",
    "            x=tgt, kde=True, color='teal')\n",
    "plt.show()"
   ]
  },
  {
   "cell_type": "code",
   "execution_count": null,
   "metadata": {
    "collapsed": false
   },
   "outputs": [],
   "source": [
    "# get mols from smiles\n",
    "smiles_train = [smiles[0] for smiles in train]\n",
    "mols_train = [Chem.MolFromSmiles(smiles_train[i]) for i in range(len(smiles_train))]\n",
    "\n",
    "\n",
    "smiles_test = test\n",
    "mols_test = [Chem.MolFromSmiles(smiles_test[i]) for i in range(len(smiles_test))]"
   ]
  },
  {
   "cell_type": "code",
   "execution_count": null,
   "metadata": {
    "collapsed": false
   },
   "outputs": [],
   "source": [
    "# draw some molecules for each target for each category (min, avg, max)\n",
    "# Draw.MolsToGridImage(mols_test, molsPerRow=3, subImgSize=(300, 300))\n",
    "\n",
    "#for tgt in train.target_cols: # why doesn't it print those, if I loop it :(\n",
    "tgt = \"MLM\" #['MLM', 'HLM', 'MDR1-MDCKII', 'LogD', 'KSOL']\n",
    "y = train.y[tgt]\n",
    "mask = ~np.isnan(y)\n",
    "min = np.min(y[mask])\n",
    "\n",
    "min_indices = np.where(y == min)[0]\n",
    "mols = [mols_train[i] for i in min_indices]\n",
    "Draw.MolsToGridImage(mols, molsPerRow=3, subImgSize=(300, 300))"
   ]
  },
  {
   "cell_type": "code",
   "execution_count": null,
   "metadata": {
    "collapsed": false
   },
   "outputs": [],
   "source": [
    "max = np.max(y[mask])\n",
    "\n",
    "max_indices = np.where(y == max)[0]\n",
    "mols = [mols_train[i] for i in max_indices]\n",
    "Draw.MolsToGridImage(mols, molsPerRow=3, subImgSize=(300, 300))"
   ]
  },
  {
   "cell_type": "code",
   "execution_count": null,
   "metadata": {
    "collapsed": false
   },
   "outputs": [],
   "source": [
    "avg = np.average(y[mask])\n",
    "\n",
    "avg_indices = [0] # todo: find avg indices\n",
    "mols = [mols_train[i] for i in avg_indices]\n",
    "Draw.MolsToGridImage(mols, molsPerRow=3, subImgSize=(300, 300))"
   ]
  },
  {
   "cell_type": "code",
   "execution_count": null,
   "metadata": {
    "collapsed": false
   },
   "outputs": [],
   "source": [
    "# distribution of molecular weight\n",
    "# train\n",
    "\n",
    "weights = [ExactMolWt(mol) for mol in mols_train]\n",
    "sns.displot(data=pd.DataFrame({\"Weights Train\": weights}),\n",
    "            x=\"Weights Train\", kde=True, color='teal')\n",
    "plt.show()\n",
    "\n",
    "#test\n",
    "\n",
    "weights = [ExactMolWt(mol) for mol in mols_test]\n",
    "sns.displot(data=pd.DataFrame({\"Weights Test\": weights}),\n",
    "            x=\"Weights Test\", kde=True, color='teal')\n",
    "plt.show()\n"
   ]
  },
  {
   "cell_type": "code",
   "execution_count": null,
   "metadata": {
    "collapsed": false
   },
   "outputs": [],
   "source": [
    "# distribution of molecular weight\n",
    "# train\n",
    "\n",
    "weights = [HeavyAtomMolWt(mol) for mol in mols_train]\n",
    "sns.displot(data=pd.DataFrame({\"Weights Train\": weights}),\n",
    "            x=\"Weights Train\", kde=True, color='teal')\n",
    "plt.show()\n",
    "\n",
    "#test\n",
    "\n",
    "weights = [HeavyAtomMolWt(mol) for mol in mols_test]\n",
    "sns.displot(data=pd.DataFrame({\"Weights Test\": weights}),\n",
    "            x=\"Weights Test\", kde=True, color='teal')\n",
    "plt.show()\n"
   ]
  },
  {
   "cell_type": "code",
   "execution_count": null,
   "metadata": {
    "collapsed": false
   },
   "outputs": [],
   "source": [
    "# distribution of number of atoms\n",
    "# train\n",
    "\n",
    "weights = [mol.GetNumAtoms() for mol in mols_train]\n",
    "sns.displot(data=pd.DataFrame({\"Num Atoms Train\": weights}),\n",
    "            x=\"Num Atoms Train\", kde=True, color='teal')\n",
    "plt.show()\n",
    "\n",
    "#test\n",
    "\n",
    "weights = [mol.GetNumAtoms() for mol in mols_test]\n",
    "sns.displot(data=pd.DataFrame({\"Num Atoms Test\": weights}),\n",
    "            x=\"Num Atoms Test\", kde=True, color='teal')\n",
    "plt.show()\n"
   ]
  },
  {
   "cell_type": "code",
   "execution_count": null,
   "metadata": {
    "collapsed": false
   },
   "outputs": [],
   "source": [
    "# distribution of similarity in train/test\n",
    "# train\n",
    "fps_train = [FingerprintMols.FingerprintMol(x) for x in mols_train]\n",
    "sim = []\n",
    "\n",
    "for i in range(len(fps_train)-1):\n",
    "    for j in range(i, len(fps_train)):\n",
    "        sim.append(DataStructs.TanimotoSimilarity(fps_train[i], fps_train[j]))\n",
    "\n",
    "sns.displot(data=pd.DataFrame({\"Similarity in Train\": sim}),\n",
    "            x=\"Similarity in Train\", kde=True, color='teal')\n",
    "plt.show()\n",
    "\n",
    "#test\n",
    "fps_test = [FingerprintMols.FingerprintMol(x) for x in mols_test]\n",
    "sim = []\n",
    "\n",
    "for i in range(len(fps_test)-1):\n",
    "    for j in range(i, len(fps_test)):\n",
    "        sim.append(DataStructs.TanimotoSimilarity(fps_test[i], fps_test[j]))\n",
    "\n",
    "\n",
    "sns.displot(data=pd.DataFrame({\"Similarity in Test\": sim}),\n",
    "            x=\"Similarity in Test\", kde=True, color='teal')\n",
    "plt.show()\n"
   ]
  },
  {
   "cell_type": "code",
   "execution_count": null,
   "metadata": {
    "collapsed": false
   },
   "outputs": [],
   "source": [
    "# distribution of similarity between train and test\n",
    "sim = []\n",
    "for i in range(len(fps_train)):\n",
    "    for j in range(len(fps_test)):\n",
    "        sim.append(DataStructs.TanimotoSimilarity(fps_train[i], fps_test[j]))\n",
    "\n",
    "sns.displot(data=pd.DataFrame({\"Similarity between Train and Test\": sim}),\n",
    "            x=\"Similarity between Train and Test\", kde=True, color='teal')\n",
    "\n"
   ]
  },
  {
   "cell_type": "code",
   "execution_count": null,
   "metadata": {
    "collapsed": false
   },
   "outputs": [],
   "source": [
    "# distribution of max similarity between train and test\n",
    "sim = []\n",
    "for i in range(len(fps_test)):\n",
    "    max = 0\n",
    "    for j in range(len(fps_train)):\n",
    "        simi = DataStructs.TanimotoSimilarity(fps_test[i], fps_train[j])\n",
    "        if simi > max:\n",
    "            max = simi\n",
    "    sim.append(max)\n",
    "\n",
    "sns.displot(data=pd.DataFrame({\"Max Similarity between Test and Train\": sim}),\n",
    "            x=\"Max Similarity between Test and Train\", kde=True, color='teal')\n"
   ]
  },
  {
   "cell_type": "code",
   "execution_count": null,
   "metadata": {
    "collapsed": false
   },
   "outputs": [],
   "source": [
    "# scatter tgt vs mol weight\n",
    "for tgt in train.target_cols:\n",
    "    weights = [HeavyAtomMolWt(mol) for mol in mols_train]\n",
    "    sns.scatterplot(data=pd.DataFrame({\"Weights Train\": weights, tgt:train.y[tgt]}),\n",
    "            x=\"Weights Train\",y=tgt, color='teal')\n",
    "    plt.show()\n"
   ]
  },
  {
   "cell_type": "code",
   "execution_count": null,
   "metadata": {
    "collapsed": false
   },
   "outputs": [],
   "source": [
    "print(train[0][1])\n",
    "print(train[1][1])\n",
    "print(train[2][1])"
   ]
  },
  {
   "cell_type": "code",
   "execution_count": null,
   "metadata": {
    "collapsed": false
   },
   "outputs": [],
   "source": [
    "# mol sizes\n",
    "\n",
    "# train\n",
    "smiles = [smiles[0] for smiles in train]\n",
    "\n",
    "mols = [Chem.MolFromSmiles(smiles[i]) for i in range(len(smiles))]\n",
    "mol_sizes = [mol.GetNumAtoms() for mol in mols]\n",
    "# mol weight\n",
    "\n",
    "# test\n",
    "smiles_test = [smiles[0] for smiles in train]\n",
    "\n",
    "mols_test = [Chem.MolFromSmiles(smiles_test[i]) for i in range(len(smiles_test))]\n",
    "mol_sizes_test = [mol.GetNumAtoms() for mol in mols_test]\n",
    "\n",
    "\n",
    "# use atom weight\n",
    "# print(mol_sizes_test)"
   ]
  }
 ],
 "metadata": {
  "kernelspec": {
   "display_name": "Python 3",
   "language": "python",
   "name": "python3"
  },
  "language_info": {
   "codemirror_mode": {
    "name": "ipython",
    "version": 2
   },
   "file_extension": ".py",
   "mimetype": "text/x-python",
   "name": "python",
   "nbconvert_exporter": "python",
   "pygments_lexer": "ipython2",
   "version": "2.7.6"
  }
 },
 "nbformat": 4,
 "nbformat_minor": 0
}
